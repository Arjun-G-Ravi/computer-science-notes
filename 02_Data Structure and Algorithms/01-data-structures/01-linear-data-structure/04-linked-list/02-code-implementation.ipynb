{
 "cells": [
  {
   "cell_type": "code",
   "execution_count": 13,
   "metadata": {},
   "outputs": [],
   "source": [
    "class Node:\n",
    "    def __init__(self, data, next):\n",
    "        self.data = data\n",
    "        self.next = next \n",
    "\n",
    "                         \n",
    "class LinkedList:\n",
    "    def __init__(self):\n",
    "        self.head = Node(None, None)\n",
    "\n",
    "    def get_head(self):\n",
    "        return self.head.data        \n",
    "\n",
    "    def insert_end(self, data):\n",
    "        new_node = Node(data, None)\n",
    "        if self.head.data == None:\n",
    "            self.head.data = data\n",
    "        else:\n",
    "            my_node = self.head\n",
    "            while my_node.next != None:\n",
    "                my_node = my_node.next\n",
    "            my_node.next = new_node\n",
    "\n",
    "    def display(self):\n",
    "        my_node = self.head\n",
    "        print(my_node.data,end=' ')\n",
    "        while my_node.next != None:\n",
    "            my_node = my_node.next\n",
    "            print(f'-> {my_node.data}', end =' ')\n",
    "        print()\n",
    "\n",
    "    def length(self):\n",
    "        new_node = self.head\n",
    "        if self.head.data == None:\n",
    "            l = 0\n",
    "        else:\n",
    "            l = 1\n",
    "            while new_node.next != None:\n",
    "                new_node = new_node.next\n",
    "                l += 1\n",
    "        return l\n",
    "\n",
    "    def insert(self, data, index):\n",
    "        if self.head.data == None:\n",
    "            self.head.data = data\n",
    "        else:\n",
    "            prev_node = self.head\n",
    "            for _ in range(index - 1):\n",
    "                prev_node = prev_node.next\n",
    "            new_node = Node(data, prev_node.next)\n",
    "            prev_node.next = new_node\n",
    "\n",
    "    def delete(self, index):\n",
    "        if index >= self.length():\n",
    "            raise Exception(\"Index out of range\")\n",
    "        elif index == 0:\n",
    "            if self.head.next:\n",
    "                self.head = self.head.next\n",
    "            else:\n",
    "                self.head.data = None\n",
    "        else:\n",
    "            prev_node = self.head\n",
    "            for _ in range(index -1):\n",
    "                prev_node = prev_node.next\n",
    "\n",
    "            prev_node.next = prev_node.next.next\n",
    "    def insert_from_list(self,list):\n",
    "        for i in list:\n",
    "            self.insert_end(i)\n",
    "        return \n"
   ]
  },
  {
   "cell_type": "markdown",
   "metadata": {},
   "source": [
    "Insertion"
   ]
  },
  {
   "cell_type": "code",
   "execution_count": 14,
   "metadata": {},
   "outputs": [
    {
     "name": "stdout",
     "output_type": "stream",
     "text": [
      "1 -> 2 -> 4 -> 5 \n",
      "1 -> 2 -> 3 -> 4 -> 5 \n",
      "5\n"
     ]
    }
   ],
   "source": [
    "ll = LinkedList()\n",
    "ll.insert_end(1)\n",
    "ll.insert_end(2)\n",
    "ll.insert_end(4)\n",
    "ll.insert_end(5)\n",
    "ll.display()\n",
    "ll.insert(3,2)\n",
    "ll.display()\n",
    "print(ll.length())"
   ]
  },
  {
   "cell_type": "code",
   "execution_count": 15,
   "metadata": {},
   "outputs": [
    {
     "data": {
      "text/plain": [
       "1"
      ]
     },
     "execution_count": 15,
     "metadata": {},
     "output_type": "execute_result"
    }
   ],
   "source": [
    "ll.get_head()"
   ]
  },
  {
   "cell_type": "markdown",
   "metadata": {},
   "source": [
    "Deletion"
   ]
  },
  {
   "cell_type": "code",
   "execution_count": 16,
   "metadata": {},
   "outputs": [
    {
     "name": "stdout",
     "output_type": "stream",
     "text": [
      "1 -> 2 -> 3 -> 5 \n"
     ]
    }
   ],
   "source": [
    "ll.delete(3)\n",
    "ll.display()"
   ]
  },
  {
   "cell_type": "code",
   "execution_count": 17,
   "metadata": {},
   "outputs": [
    {
     "name": "stdout",
     "output_type": "stream",
     "text": [
      "1 -> 2 -> 3 \n"
     ]
    }
   ],
   "source": [
    "ll.delete(3)\n",
    "ll.display()"
   ]
  },
  {
   "cell_type": "code",
   "execution_count": 18,
   "metadata": {},
   "outputs": [
    {
     "name": "stdout",
     "output_type": "stream",
     "text": [
      "1 -> 3 \n"
     ]
    }
   ],
   "source": [
    "ll.delete(1)\n",
    "ll.display()"
   ]
  },
  {
   "cell_type": "code",
   "execution_count": 19,
   "metadata": {},
   "outputs": [
    {
     "name": "stdout",
     "output_type": "stream",
     "text": [
      "3 \n"
     ]
    }
   ],
   "source": [
    "ll.delete(0)\n",
    "ll.display()"
   ]
  },
  {
   "cell_type": "code",
   "execution_count": 20,
   "metadata": {},
   "outputs": [
    {
     "name": "stdout",
     "output_type": "stream",
     "text": [
      "None \n"
     ]
    }
   ],
   "source": [
    "ll.delete(0)\n",
    "ll.display()"
   ]
  },
  {
   "cell_type": "code",
   "execution_count": 21,
   "metadata": {},
   "outputs": [
    {
     "name": "stdout",
     "output_type": "stream",
     "text": [
      "None \n"
     ]
    }
   ],
   "source": [
    "# ll.delete(0) # User generated Exception\n",
    "ll.display()"
   ]
  },
  {
   "cell_type": "markdown",
   "metadata": {},
   "source": [
    "Length"
   ]
  },
  {
   "cell_type": "code",
   "execution_count": 22,
   "metadata": {},
   "outputs": [
    {
     "name": "stdout",
     "output_type": "stream",
     "text": [
      "0\n"
     ]
    }
   ],
   "source": [
    "print(ll.length())"
   ]
  },
  {
   "cell_type": "markdown",
   "metadata": {},
   "source": [
    "Insert from list"
   ]
  },
  {
   "cell_type": "code",
   "execution_count": 23,
   "metadata": {},
   "outputs": [
    {
     "name": "stdout",
     "output_type": "stream",
     "text": [
      "10 -> 20 -> 30 \n"
     ]
    }
   ],
   "source": [
    "ll.insert_from_list([10,20,30])\n",
    "ll.display()"
   ]
  }
 ],
 "metadata": {
  "kernelspec": {
   "display_name": "kaggle_env",
   "language": "python",
   "name": "python3"
  },
  "language_info": {
   "codemirror_mode": {
    "name": "ipython",
    "version": 3
   },
   "file_extension": ".py",
   "mimetype": "text/x-python",
   "name": "python",
   "nbconvert_exporter": "python",
   "pygments_lexer": "ipython3",
   "version": "3.13.5"
  },
  "orig_nbformat": 4
 },
 "nbformat": 4,
 "nbformat_minor": 2
}
