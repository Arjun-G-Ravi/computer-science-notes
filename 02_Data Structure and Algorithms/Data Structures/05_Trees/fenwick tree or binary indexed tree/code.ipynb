{
 "cells": [
  {
   "cell_type": "markdown",
   "id": "dc2def1a",
   "metadata": {},
   "source": [
    "# Fenwick Tree\n",
    "\n",
    "Given an array, find the sum upto an index 10\n",
    " - Fenwick Tree does this in log(n)"
   ]
  },
  {
   "cell_type": "code",
   "execution_count": null,
   "id": "79fc87c9",
   "metadata": {},
   "outputs": [],
   "source": [
    "class FenwickTree:\n",
    "    def __init__(self, arr=None):\n",
    "        if arr:\n",
    "            # Constructing the tree in linear time\n",
    "            pass\n",
    "        else:\n",
    "            self.tree = [5,3,4,5,1,3,2]\n",
    "    \n",
    "    def get_range(self, index):\n",
    "        # index_bin = self.get_binary(index)\n",
    "        lsb = self.get_LSB(index)\n",
    "    \n",
    "    def get_binary(self, index):\n",
    "        return 1010\n",
    "    \n",
    "    def get_LSB(self, index):\n",
    "        # this should be one-based indexing\n",
    "        return 2\n",
    "\n"
   ]
  },
  {
   "cell_type": "code",
   "execution_count": null,
   "id": "2869ffbc",
   "metadata": {},
   "outputs": [],
   "source": []
  }
 ],
 "metadata": {
  "kernelspec": {
   "display_name": "kaggle_env",
   "language": "python",
   "name": "python3"
  },
  "language_info": {
   "codemirror_mode": {
    "name": "ipython",
    "version": 3
   },
   "file_extension": ".py",
   "mimetype": "text/x-python",
   "name": "python",
   "nbconvert_exporter": "python",
   "pygments_lexer": "ipython3",
   "version": "3.13.5"
  }
 },
 "nbformat": 4,
 "nbformat_minor": 5
}
